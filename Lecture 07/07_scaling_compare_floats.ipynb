{
 "cells": [
  {
   "cell_type": "code",
   "execution_count": 1,
   "metadata": {},
   "outputs": [],
   "source": [
    "# Import libraries\n",
    "\n",
    "# Pandas for data handling\n",
    "import pandas # https://pandas.pydata.org/\n",
    "# from pandas.plotting import scatter_matrix\n",
    "\n",
    "# pretty tables\n",
    "from IPython.display import display\n",
    "\n",
    "# NumPy for numerical computing\n",
    "import numpy # https://numpy.org/\n",
    "\n",
    "# MatPlotLib+Seaborn for visualization\n",
    "import matplotlib.pyplot as pl  # https://matplotlib.org/\n",
    "import seaborn as sns\n",
    "\n",
    "# assessment\n",
    "from sklearn import model_selection # for model comparisons\n",
    "from sklearn.model_selection import GridSearchCV\n",
    "from sklearn.model_selection import train_test_split\n",
    "\n",
    "from sklearn.metrics import accuracy_score\n",
    "from sklearn.metrics import confusion_matrix\n",
    "from sklearn.metrics import classification_report\n",
    "from sklearn.metrics import cohen_kappa_score\n",
    "\n",
    "# algorithms\n",
    "from sklearn.linear_model import LogisticRegression\n",
    "from sklearn.svm import SVC\n",
    "from sklearn.neighbors import KNeighborsClassifier\n",
    "from sklearn.tree import DecisionTreeClassifier\n",
    "\n",
    "# data preprocessing / feature selection\n",
    "from sklearn.preprocessing import StandardScaler\n",
    "from sklearn.preprocessing import MinMaxScaler\n",
    "from sklearn.decomposition import PCA\n",
    "\n",
    "# combining\n",
    "from sklearn.pipeline import make_pipeline\n",
    "\n",
    "#########"
   ]
  },
  {
   "cell_type": "code",
   "execution_count": 2,
   "metadata": {},
   "outputs": [
    {
     "name": "stdout",
     "output_type": "stream",
     "text": [
      "Loading data from file ...\n",
      "done \n",
      "\n",
      "Removing rows with missing data ...\n",
      "done \n",
      "\n"
     ]
    }
   ],
   "source": [
    "print('Loading data from file ...')  # Now let's load the data\n",
    "dataset = pandas.read_csv('floats.csv') # default is header=infer, change if column names are not in first row\n",
    "print('done \\n')\n",
    "\n",
    "print('Removing rows with missing data ...')  # Make things simple\n",
    "dataset = dataset.dropna()  # default is to drop any row that contains at least one missing value\n",
    "print('done \\n')"
   ]
  },
  {
   "cell_type": "code",
   "execution_count": 3,
   "metadata": {},
   "outputs": [
    {
     "name": "stdout",
     "output_type": "stream",
     "text": [
      "Reading list of problem variables X and Y...\n",
      "done \n",
      "\n",
      "Partitioning data into parts: formative (for development) and summative (for testing) ...\n",
      "done \n",
      "\n"
     ]
    }
   ],
   "source": [
    "# Let's set up a problem: Can we predict 'callSign' using these three features: 'Depth', 'Temperature', 'Salinity' ?\n",
    "\n",
    "print('Reading list of problem variables X and Y...')\n",
    "X_name = [ 'Depth', 'Temperature', 'Salinity' ] # columns to focus on as predictors\n",
    "X = dataset[X_name]   # only keep these columns as features\n",
    "y_name = 'callSign'     # column to focus on as target\n",
    "y = dataset[y_name]   # only keep this column as label \n",
    "print('done \\n')\n",
    "\n",
    "# Split-out test dataset\n",
    "\n",
    "# We reset the random number seed before each run to ensure that the evaluation of each algorithm is performed using exactly the same data splits. It ensures the results are directly comparable.\n",
    "seed = 42\n",
    "\n",
    "# Train, test split\n",
    "print('Partitioning data into parts: formative (for development) and summative (for testing) ...')\n",
    "test_size = 0.20   # means 20 percent\n",
    "\n",
    "X_train, X_test, y_train, y_test = model_selection.train_test_split(X, y, test_size=test_size, random_state=seed)\n",
    "print('done \\n')"
   ]
  },
  {
   "cell_type": "code",
   "execution_count": 4,
   "metadata": {},
   "outputs": [
    {
     "data": {
      "text/html": [
       "<div>\n",
       "<style scoped>\n",
       "    .dataframe tbody tr th:only-of-type {\n",
       "        vertical-align: middle;\n",
       "    }\n",
       "\n",
       "    .dataframe tbody tr th {\n",
       "        vertical-align: top;\n",
       "    }\n",
       "\n",
       "    .dataframe thead th {\n",
       "        text-align: right;\n",
       "    }\n",
       "</style>\n",
       "<table border=\"1\" class=\"dataframe\">\n",
       "  <thead>\n",
       "    <tr style=\"text-align: right;\">\n",
       "      <th></th>\n",
       "      <th>Depth</th>\n",
       "      <th>Temperature</th>\n",
       "      <th>Salinity</th>\n",
       "    </tr>\n",
       "  </thead>\n",
       "  <tbody>\n",
       "    <tr>\n",
       "      <th>count</th>\n",
       "      <td>8016.000000</td>\n",
       "      <td>8016.000000</td>\n",
       "      <td>8016.000000</td>\n",
       "    </tr>\n",
       "    <tr>\n",
       "      <th>mean</th>\n",
       "      <td>302.138099</td>\n",
       "      <td>16.229069</td>\n",
       "      <td>35.823688</td>\n",
       "    </tr>\n",
       "    <tr>\n",
       "      <th>std</th>\n",
       "      <td>268.402139</td>\n",
       "      <td>7.854032</td>\n",
       "      <td>0.686445</td>\n",
       "    </tr>\n",
       "    <tr>\n",
       "      <th>min</th>\n",
       "      <td>2.000000</td>\n",
       "      <td>4.670000</td>\n",
       "      <td>31.090000</td>\n",
       "    </tr>\n",
       "    <tr>\n",
       "      <th>25%</th>\n",
       "      <td>79.000000</td>\n",
       "      <td>8.680000</td>\n",
       "      <td>35.030000</td>\n",
       "    </tr>\n",
       "    <tr>\n",
       "      <th>50%</th>\n",
       "      <td>216.000000</td>\n",
       "      <td>16.160000</td>\n",
       "      <td>36.070000</td>\n",
       "    </tr>\n",
       "    <tr>\n",
       "      <th>75%</th>\n",
       "      <td>492.000000</td>\n",
       "      <td>22.900000</td>\n",
       "      <td>36.460000</td>\n",
       "    </tr>\n",
       "    <tr>\n",
       "      <th>max</th>\n",
       "      <td>996.000000</td>\n",
       "      <td>31.350000</td>\n",
       "      <td>36.900000</td>\n",
       "    </tr>\n",
       "  </tbody>\n",
       "</table>\n",
       "</div>"
      ],
      "text/plain": [
       "             Depth  Temperature     Salinity\n",
       "count  8016.000000  8016.000000  8016.000000\n",
       "mean    302.138099    16.229069    35.823688\n",
       "std     268.402139     7.854032     0.686445\n",
       "min       2.000000     4.670000    31.090000\n",
       "25%      79.000000     8.680000    35.030000\n",
       "50%     216.000000    16.160000    36.070000\n",
       "75%     492.000000    22.900000    36.460000\n",
       "max     996.000000    31.350000    36.900000"
      ]
     },
     "metadata": {},
     "output_type": "display_data"
    },
    {
     "data": {
      "image/png": "[encoded data removed]",
      "text/plain": [
       "<Figure size 1080x1080 with 4 Axes>"
      ]
     },
     "metadata": {
      "needs_background": "light"
     },
     "output_type": "display_data"
    },
    {
     "data": {
      "text/plain": [
       "count         8016\n",
       "unique          11\n",
       "top       Q4901044\n",
       "freq          2304\n",
       "Name: callSign, dtype: object"
      ]
     },
     "metadata": {},
     "output_type": "display_data"
    }
   ],
   "source": [
    "# EDA\n",
    "\n",
    "display(X_train.describe(include='all'))\n",
    "X_train.hist(figsize=(15, 15), bins=12)  # bins ~= sqrt(N)\n",
    "pl.show()\n",
    "\n",
    "display(y_train.describe(include='all'))"
   ]
  },
  {
   "cell_type": "code",
   "execution_count": 5,
   "metadata": {},
   "outputs": [
    {
     "name": "stdout",
     "output_type": "stream",
     "text": [
      "Reading list of scoring methods to use during model development ...\n",
      "done \n",
      "\n"
     ]
    }
   ],
   "source": [
    "# Chose the formative scoring method\n",
    "\n",
    "print('Reading list of scoring methods to use during model development ...')\n",
    "scoring = 'accuracy'\n",
    "print('done \\n')"
   ]
  },
  {
   "cell_type": "code",
   "execution_count": 6,
   "metadata": {},
   "outputs": [
    {
     "name": "stdout",
     "output_type": "stream",
     "text": [
      "Reading list of algorithms to train ...\n",
      "done \n",
      "\n"
     ]
    }
   ],
   "source": [
    "# Chose the Algorithms\n",
    "\n",
    "seed = 42 # setting the seed allows for repeatability\n",
    "\n",
    "print('Reading list of algorithms to train ...')\n",
    "models = []\n",
    "models.append(( 'raw_SVM', SVC(random_state=seed) ))\n",
    "models.append(( 'scaled_SVM', make_pipeline( MinMaxScaler(), SVC(random_state=seed) )  ))\n",
    "models.append(( 'raw_kNN', KNeighborsClassifier() ))\n",
    "models.append(( 'scaled_kNN', make_pipeline( MinMaxScaler(), KNeighborsClassifier() )  ))\n",
    "models.append(( 'raw_DT', DecisionTreeClassifier(random_state=seed) ))\n",
    "models.append(( 'scaled_DT', make_pipeline( MinMaxScaler(), DecisionTreeClassifier(random_state=seed) )  ))\n",
    "print('done \\n')"
   ]
  },
  {
   "cell_type": "code",
   "execution_count": 7,
   "metadata": {},
   "outputs": [
    {
     "name": "stdout",
     "output_type": "stream",
     "text": [
      " ++ NOW WORKING ON ALGORITHM raw_SVM ++\n",
      "Splitting data into 5 folds\n",
      "Training model on each split ...\n",
      "algorithm raw_SVM accuracy results: mean = 0.293038 (std = 0.008746)\n",
      " ++ NOW WORKING ON ALGORITHM scaled_SVM ++\n",
      "Splitting data into 5 folds\n",
      "Training model on each split ...\n",
      "algorithm scaled_SVM accuracy results: mean = 0.392840 (std = 0.006596)\n",
      " ++ NOW WORKING ON ALGORITHM raw_kNN ++\n",
      "Splitting data into 5 folds\n",
      "Training model on each split ...\n",
      "algorithm raw_kNN accuracy results: mean = 0.442116 (std = 0.006673)\n",
      " ++ NOW WORKING ON ALGORITHM scaled_kNN ++\n",
      "Splitting data into 5 folds\n",
      "Training model on each split ...\n",
      "algorithm scaled_kNN accuracy results: mean = 0.472430 (std = 0.003946)\n",
      " ++ NOW WORKING ON ALGORITHM raw_DT ++\n",
      "Splitting data into 5 folds\n",
      "Training model on each split ...\n",
      "algorithm raw_DT accuracy results: mean = 0.460332 (std = 0.013745)\n",
      " ++ NOW WORKING ON ALGORITHM scaled_DT ++\n",
      "Splitting data into 5 folds\n",
      "Training model on each split ...\n",
      "algorithm scaled_DT accuracy results: mean = 0.461954 (std = 0.013750)\n",
      "done \n",
      "\n"
     ]
    }
   ],
   "source": [
    "# Now it is time to train some models on the data and estimate their accuracy on unseen data.\n",
    "\n",
    "k4folds = 5\n",
    "results = []\n",
    "names = []\n",
    "for name, model in models:   # Select each model in turn\n",
    "    print(\" ++ NOW WORKING ON ALGORITHM %s ++\" % name)\n",
    "    print(\"Splitting data into %s folds\" % k4folds)\n",
    "    kfold = model_selection.KFold(n_splits=k4folds, random_state=seed, shuffle=True)\n",
    "    print(\"Training model on each split ...\")\n",
    "    cv_results = model_selection.cross_val_score(model, X_train, y_train, cv=kfold, scoring=scoring)\n",
    "    results.append(cv_results)\n",
    "    names.append(name)\n",
    "    msg = \"algorithm %s %s results: mean = %f (std = %f)\" % (name, scoring, cv_results.mean(), cv_results.std())\n",
    "    print(msg)\n",
    "    \n",
    "print('done \\n')"
   ]
  },
  {
   "cell_type": "code",
   "execution_count": 8,
   "metadata": {},
   "outputs": [
    {
     "data": {
      "image/png": "[encoded data removed]",
      "text/plain": [
       "<Figure size 1080x360 with 1 Axes>"
      ]
     },
     "metadata": {
      "needs_background": "light"
     },
     "output_type": "display_data"
    }
   ],
   "source": [
    "# Compare Algorithms\n",
    "fig = pl.figure(figsize=(15,5))\n",
    "fig.suptitle('Algorithm Comparison based on %s' % scoring)\n",
    "ax = fig.add_subplot(111)\n",
    "pl.boxplot(results)\n",
    "ax.set_xticklabels(names)\n",
    "pl.show()"
   ]
  },
  {
   "cell_type": "code",
   "execution_count": 9,
   "metadata": {},
   "outputs": [
    {
     "name": "stdout",
     "output_type": "stream",
     "text": [
      " ++++ Detailed classification report for the selected model ++++ \n",
      "Algorithm: Pipeline(steps=[('minmaxscaler', MinMaxScaler()),\n",
      "                ('kneighborsclassifier', KNeighborsClassifier())]) \n",
      "This model was trained and tuned on the development set using CV.\n",
      "The following results are computed on the separate test set:\n"
     ]
    },
    {
     "data": {
      "image/png": "[encoded data removed]",
      "text/plain": [
       "<Figure size 432x288 with 1 Axes>"
      ]
     },
     "metadata": {
      "needs_background": "light"
     },
     "output_type": "display_data"
    },
    {
     "name": "stdout",
     "output_type": "stream",
     "text": [
      "\n",
      " clasification report:\n",
      "               precision    recall  f1-score   support\n",
      "\n",
      "    Q4901043       0.71      0.91      0.80       179\n",
      "    Q4901044       0.74      0.88      0.80       573\n",
      "    Q4901265       0.33      0.44      0.37       172\n",
      "    Q4901266       0.24      0.26      0.25       195\n",
      "    Q4901267       0.32      0.32      0.32       167\n",
      "    Q4901268       0.23      0.17      0.20       132\n",
      "    Q4901269       0.23      0.20      0.22       191\n",
      "    Q4901270       0.21      0.14      0.17       190\n",
      "    Q4901271       0.19      0.09      0.12        92\n",
      "    Q4901272       0.23      0.13      0.16       103\n",
      "    Q4901273       0.00      0.00      0.00        11\n",
      "\n",
      "    accuracy                           0.48      2005\n",
      "   macro avg       0.31      0.32      0.31      2005\n",
      "weighted avg       0.43      0.48      0.45      2005\n",
      "\n",
      "Cohen Kappa Score: 0.38081590184989345\n",
      "\n",
      "\n",
      "done \n",
      "\n"
     ]
    },
    {
     "name": "stderr",
     "output_type": "stream",
     "text": [
      "C:\\Users\\nhoss\\anaconda3\\lib\\site-packages\\sklearn\\metrics\\_classification.py:1221: UndefinedMetricWarning: Precision and F-score are ill-defined and being set to 0.0 in labels with no predicted samples. Use `zero_division` parameter to control this behavior.\n",
      "  _warn_prf(average, modifier, msg_start, len(result))\n"
     ]
    }
   ],
   "source": [
    "# Make predictions on test dataset\n",
    "selected_model = make_pipeline( MinMaxScaler(),KNeighborsClassifier() ) \n",
    "selected_model.fit(X_train, y_train)\n",
    "predictions = selected_model.predict(X_test)\n",
    "print(\" ++++ Detailed classification report for the selected model ++++ \" )\n",
    "print(\"Algorithm: %s \" % selected_model)\n",
    "print(\"This model was trained and tuned on the development set using CV.\")\n",
    "print(\"The following results are computed on the separate test set:\")\n",
    "#\n",
    "predictions = selected_model.predict(X_test)\n",
    "cm = confusion_matrix(y_test, predictions)\n",
    "df_cm = pandas.DataFrame(cm, columns=numpy.unique(y_test), index = numpy.unique(y_test))\n",
    "sns.heatmap(df_cm, square=True, annot=True, fmt='d', cbar=False )\n",
    "pl.xlabel('predicted')\n",
    "pl.ylabel('true')\n",
    "pl.show()\n",
    "#\n",
    "print('\\n clasification report:\\n', classification_report(y_test, predictions))\n",
    "print('Cohen Kappa Score:', cohen_kappa_score(y_test, predictions))\n",
    "print('\\n')        \n",
    "print('done \\n')"
   ]
  },
  {
   "cell_type": "code",
   "execution_count": null,
   "metadata": {},
   "outputs": [],
   "source": []
  }
 ],
 "metadata": {
  "kernelspec": {
   "display_name": "Python 3",
   "language": "python",
   "name": "python3"
  },
  "language_info": {
   "codemirror_mode": {
    "name": "ipython",
    "version": 3
   },
   "file_extension": ".py",
   "mimetype": "text/x-python",
   "name": "python",
   "nbconvert_exporter": "python",
   "pygments_lexer": "ipython3",
   "version": "3.8.5"
  }
 },
 "nbformat": 4,
 "nbformat_minor": 1
}
