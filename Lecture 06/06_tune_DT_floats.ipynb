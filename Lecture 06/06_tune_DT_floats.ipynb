{
 "cells": [
  {
   "cell_type": "code",
   "execution_count": 1,
   "metadata": {},
   "outputs": [],
   "source": [
    "# Import libraries\n",
    "\n",
    "# First, let’s import all of the modules, functions and objects we are going to use in this tutorial.\n",
    "\n",
    "# Pandas for data handling\n",
    "import pandas # https://pandas.pydata.org/\n",
    "\n",
    "# NumPy for numerical computing\n",
    "import numpy as np # https://numpy.org/\n",
    "\n",
    "# MatPlotLib for visualization\n",
    "import matplotlib.pyplot as pl  # https://matplotlib.org/\n",
    "\n",
    "# assessment\n",
    "from sklearn import model_selection # for model comparisons\n",
    "from sklearn.model_selection import GridSearchCV\n",
    "from sklearn.metrics import classification_report\n",
    "\n",
    "# algorithms\n",
    "from sklearn import tree\n",
    "from sklearn.tree import DecisionTreeClassifier"
   ]
  },
  {
   "cell_type": "code",
   "execution_count": 2,
   "metadata": {},
   "outputs": [
    {
     "name": "stdout",
     "output_type": "stream",
     "text": [
      "Loading data from file ...\n",
      "Removing rows with missing data ...\n",
      "Reading list of problem variables X and y...\n",
      "Partitioning data into parts: formative (for development) and summative (for testing) ...\n",
      "done \n",
      "\n"
     ]
    }
   ],
   "source": [
    "# Let's set up our standard example problem: \n",
    "# Can we predict 'callSign' using these three features:  'Depth', 'Temperature', 'Salinity' ?\n",
    "\n",
    "# Load the data\n",
    "print('Loading data from file ...')  \n",
    "dataset = pandas.read_csv('floats.csv')\n",
    "print('Removing rows with missing data ...')  \n",
    "dataset = dataset.dropna()\n",
    "print('Reading list of problem variables X and y...')\n",
    "X_name = [ 'Depth', 'Temperature', 'Salinity' ] \n",
    "y_name = 'callSign'\n",
    "X = dataset[X_name]   \n",
    "y = dataset[y_name]   \n",
    "\n",
    "# setting the seed allows for repeatability\n",
    "seed = 42 \n",
    "\n",
    "print('Partitioning data into parts: formative (for development) and summative (for testing) ...')\n",
    "test_size = 0.20   # means 20 percent\n",
    "X_train, X_test, y_train, y_test = model_selection.train_test_split(X, y, test_size=test_size, random_state=seed)\n",
    "\n",
    "print('done \\n')"
   ]
  },
  {
   "cell_type": "code",
   "execution_count": 3,
   "metadata": {},
   "outputs": [],
   "source": [
    "# Chose the formative scoring method\n",
    "scoring = 'f1_micro'"
   ]
  },
  {
   "cell_type": "code",
   "execution_count": 4,
   "metadata": {},
   "outputs": [
    {
     "name": "stdout",
     "output_type": "stream",
     "text": [
      "Now tuning hyperparameters...\n",
      "Best hyperparameters found on development set:\n",
      "{'criterion': 'entropy', 'max_depth': 7}\n",
      "Grid scores on development set:\n",
      "0.371 (+/-0.021) for {'criterion': 'gini', 'max_depth': 4}\n",
      "0.385 (+/-0.016) for {'criterion': 'gini', 'max_depth': 5}\n",
      "0.410 (+/-0.013) for {'criterion': 'gini', 'max_depth': 6}\n",
      "0.425 (+/-0.012) for {'criterion': 'gini', 'max_depth': 7}\n",
      "0.364 (+/-0.021) for {'criterion': 'entropy', 'max_depth': 4}\n",
      "0.392 (+/-0.015) for {'criterion': 'entropy', 'max_depth': 5}\n",
      "0.409 (+/-0.019) for {'criterion': 'entropy', 'max_depth': 6}\n",
      "0.425 (+/-0.012) for {'criterion': 'entropy', 'max_depth': 7}\n",
      "done \n",
      "\n"
     ]
    }
   ],
   "source": [
    "# Chose the Algorithm and tune some hyperparameters\n",
    "\n",
    "selected_model = DecisionTreeClassifier()\n",
    "hyperparameters = {'max_depth':[4, 5, 6, 7], 'criterion':['gini', 'entropy'] }\n",
    "\n",
    "print(\"Now tuning hyperparameters...\")\n",
    "clf = GridSearchCV(selected_model, hyperparameters, cv=5, scoring=scoring)\n",
    "clf.fit(X_train, y_train)\n",
    "\n",
    "print(\"Best hyperparameters found on development set:\")\n",
    "print(clf.best_params_)\n",
    "print(\"Grid scores on development set:\")\n",
    "means = clf.cv_results_['mean_test_score']\n",
    "stds = clf.cv_results_['std_test_score']\n",
    "for mean, std, params in zip(means, stds, clf.cv_results_['params']):\n",
    "    print(\"%0.3f (+/-%0.03f) for %r\"\n",
    "        % (mean, std * 2, params))\n",
    "print('done \\n')\n",
    "\n",
    "tuned_model = clf.best_estimator_"
   ]
  },
  {
   "cell_type": "code",
   "execution_count": 5,
   "metadata": {},
   "outputs": [
    {
     "name": "stdout",
     "output_type": "stream",
     "text": [
      "Now testing the tuned model on the separate test set...\n",
      "Detailed classification report:\n",
      "\n",
      "\n",
      "              precision    recall  f1-score   support\n",
      "\n",
      "    Q4901043       0.59      0.68      0.63       179\n",
      "    Q4901044       0.52      0.93      0.66       573\n",
      "    Q4901265       0.24      0.41      0.30       172\n",
      "    Q4901266       0.37      0.08      0.13       195\n",
      "    Q4901267       0.32      0.31      0.32       167\n",
      "    Q4901268       0.22      0.20      0.21       132\n",
      "    Q4901269       0.24      0.08      0.12       191\n",
      "    Q4901270       0.22      0.06      0.10       190\n",
      "    Q4901271       0.31      0.05      0.09        92\n",
      "    Q4901272       0.23      0.03      0.05       103\n",
      "    Q4901273       0.00      0.00      0.00        11\n",
      "\n",
      "    accuracy                           0.42      2005\n",
      "   macro avg       0.29      0.26      0.24      2005\n",
      "weighted avg       0.37      0.42      0.35      2005\n",
      "\n",
      "done \n",
      "\n",
      "Tuned decision tree has 249 nodes with maximum depth 7.\n"
     ]
    },
    {
     "name": "stderr",
     "output_type": "stream",
     "text": [
      "C:\\Users\\nhoss\\anaconda3\\lib\\site-packages\\sklearn\\metrics\\_classification.py:1221: UndefinedMetricWarning: Precision and F-score are ill-defined and being set to 0.0 in labels with no predicted samples. Use `zero_division` parameter to control this behavior.\n",
      "  _warn_prf(average, modifier, msg_start, len(result))\n"
     ]
    }
   ],
   "source": [
    "print(\"Now testing the tuned model on the separate test set...\")\n",
    "print(\"Detailed classification report:\")\n",
    "print('\\n')\n",
    "y_true, y_pred = y_test, tuned_model.predict(X_test)\n",
    "print(classification_report(y_true, y_pred))\n",
    "print('done \\n')\n",
    "\n",
    "print(f'Tuned decision tree has {tuned_model.tree_.node_count} nodes with maximum depth {tuned_model.tree_.max_depth}.')"
   ]
  },
  {
   "cell_type": "code",
   "execution_count": 6,
   "metadata": {},
   "outputs": [
    {
     "name": "stdout",
     "output_type": "stream",
     "text": [
      "Default Decision tree has 7563 nodes with maximum depth 30.\n",
      "Detailed classification report:\n",
      "\n",
      "\n",
      "              precision    recall  f1-score   support\n",
      "\n",
      "    Q4901043       0.87      0.84      0.85       179\n",
      "    Q4901044       0.87      0.85      0.86       573\n",
      "    Q4901265       0.33      0.28      0.31       172\n",
      "    Q4901266       0.21      0.23      0.22       195\n",
      "    Q4901267       0.28      0.29      0.28       167\n",
      "    Q4901268       0.27      0.31      0.29       132\n",
      "    Q4901269       0.17      0.16      0.16       191\n",
      "    Q4901270       0.25      0.26      0.26       190\n",
      "    Q4901271       0.15      0.16      0.16        92\n",
      "    Q4901272       0.19      0.22      0.21       103\n",
      "    Q4901273       0.00      0.00      0.00        11\n",
      "\n",
      "    accuracy                           0.47      2005\n",
      "   macro avg       0.33      0.33      0.33      2005\n",
      "weighted avg       0.47      0.47      0.47      2005\n",
      "\n",
      "done \n",
      "\n"
     ]
    }
   ],
   "source": [
    "# Compare to the default, unrestricted tree\n",
    "\n",
    "estimator = DecisionTreeClassifier()\n",
    "estimator.fit(X_train, y_train)\n",
    "print(f'Default Decision tree has {estimator.tree_.node_count} nodes with maximum depth {estimator.tree_.max_depth}.')\n",
    "print(\"Detailed classification report:\")\n",
    "print('\\n')\n",
    "y_true, y_pred = y_test, estimator.predict(X_test)\n",
    "print(classification_report(y_true, y_pred))\n",
    "print('done \\n')"
   ]
  },
  {
   "cell_type": "code",
   "execution_count": null,
   "metadata": {},
   "outputs": [],
   "source": []
  }
 ],
 "metadata": {
  "kernelspec": {
   "display_name": "Python 3",
   "language": "python",
   "name": "python3"
  },
  "language_info": {
   "codemirror_mode": {
    "name": "ipython",
    "version": 3
   },
   "file_extension": ".py",
   "mimetype": "text/x-python",
   "name": "python",
   "nbconvert_exporter": "python",
   "pygments_lexer": "ipython3",
   "version": "3.8.5"
  },
  "toc": {
   "base_numbering": 1,
   "nav_menu": {},
   "number_sections": true,
   "sideBar": true,
   "skip_h1_title": false,
   "title_cell": "Table of Contents",
   "title_sidebar": "Contents",
   "toc_cell": false,
   "toc_position": {},
   "toc_section_display": true,
   "toc_window_display": false
  }
 },
 "nbformat": 4,
 "nbformat_minor": 2
}
