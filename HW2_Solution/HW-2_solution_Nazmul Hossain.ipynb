{
 "cells": [
  {
   "cell_type": "raw",
   "metadata": {},
   "source": [
    "Problem 01"
   ]
  },
  {
   "cell_type": "code",
   "execution_count": 1,
   "metadata": {},
   "outputs": [],
   "source": [
    "# Import libraries\n",
    "\n",
    "# Pandas for data handling\n",
    "import pandas # https://pandas.pydata.org/\n",
    "# from pandas.plotting import scatter_matrix\n",
    "\n",
    "# pretty tables\n",
    "from IPython.display import display\n",
    "\n",
    "# NumPy for numerical computing\n",
    "import numpy # https://numpy.org/\n",
    "\n",
    "# MatPlotLib+Seaborn for visualization\n",
    "import matplotlib.pyplot as pl  # https://matplotlib.org/\n",
    "import seaborn as sns\n",
    "\n",
    "# assessment\n",
    "from sklearn import model_selection # for model comparisons\n",
    "from sklearn.model_selection import GridSearchCV\n",
    "from sklearn.model_selection import train_test_split\n",
    "from sklearn.metrics import classification_report\n",
    "from sklearn.metrics import f1_score\n",
    "\n",
    "from sklearn.metrics import accuracy_score\n",
    "from sklearn.metrics import confusion_matrix\n",
    "from sklearn.metrics import classification_report\n",
    "from sklearn.metrics import cohen_kappa_score\n",
    "\n",
    "# algorithms\n",
    "from sklearn.linear_model import LogisticRegression\n",
    "from sklearn.svm import SVC\n",
    "from sklearn.neighbors import KNeighborsClassifier\n",
    "from sklearn.tree import DecisionTreeClassifier\n",
    "from sklearn.ensemble import RandomForestClassifier\n",
    "\n",
    "# data preprocessing / feature selection\n",
    "from sklearn.preprocessing import StandardScaler\n",
    "from sklearn.preprocessing import MinMaxScaler\n",
    "from sklearn.decomposition import PCA\n",
    "\n",
    "# combining\n",
    "from sklearn.pipeline import make_pipeline\n",
    "\n",
    "#########"
   ]
  },
  {
   "cell_type": "code",
   "execution_count": 2,
   "metadata": {},
   "outputs": [
    {
     "name": "stdout",
     "output_type": "stream",
     "text": [
      "Loading data from file ...\n",
      "Removing rows with missing data ...\n",
      "Reading list of problem variables X and y...\n"
     ]
    }
   ],
   "source": [
    "# Load the data\n",
    "print('Loading data from file ...')  \n",
    "dataset = pandas.read_csv('winequality-white.csv')\n",
    "print('Removing rows with missing data ...')  \n",
    "dataset = dataset.dropna()\n",
    "print('Reading list of problem variables X and y...')\n",
    "X_name = [ 'fixed acidity', 'volatile acidity', 'citric acid', 'residual sugar', 'chlorides', 'free sulfur dioxide', 'total sulfur dioxide', 'density', 'pH', 'sulphates', 'alcohol' ] \n",
    "y_name = 'quality'\n",
    "X = dataset[X_name]   \n",
    "y = dataset[y_name]   "
   ]
  },
  {
   "cell_type": "code",
   "execution_count": 3,
   "metadata": {},
   "outputs": [
    {
     "data": {
      "text/html": [
       "<div>\n",
       "<style scoped>\n",
       "    .dataframe tbody tr th:only-of-type {\n",
       "        vertical-align: middle;\n",
       "    }\n",
       "\n",
       "    .dataframe tbody tr th {\n",
       "        vertical-align: top;\n",
       "    }\n",
       "\n",
       "    .dataframe thead th {\n",
       "        text-align: right;\n",
       "    }\n",
       "</style>\n",
       "<table border=\"1\" class=\"dataframe\">\n",
       "  <thead>\n",
       "    <tr style=\"text-align: right;\">\n",
       "      <th></th>\n",
       "      <th>fixed acidity</th>\n",
       "      <th>volatile acidity</th>\n",
       "      <th>citric acid</th>\n",
       "      <th>residual sugar</th>\n",
       "      <th>chlorides</th>\n",
       "      <th>free sulfur dioxide</th>\n",
       "      <th>total sulfur dioxide</th>\n",
       "      <th>density</th>\n",
       "      <th>pH</th>\n",
       "      <th>sulphates</th>\n",
       "      <th>alcohol</th>\n",
       "    </tr>\n",
       "  </thead>\n",
       "  <tbody>\n",
       "    <tr>\n",
       "      <th>count</th>\n",
       "      <td>4898.000000</td>\n",
       "      <td>4898.000000</td>\n",
       "      <td>4898.000000</td>\n",
       "      <td>4898.000000</td>\n",
       "      <td>4898.000000</td>\n",
       "      <td>4898.000000</td>\n",
       "      <td>4898.000000</td>\n",
       "      <td>4898.000000</td>\n",
       "      <td>4898.000000</td>\n",
       "      <td>4898.000000</td>\n",
       "      <td>4898.000000</td>\n",
       "    </tr>\n",
       "    <tr>\n",
       "      <th>mean</th>\n",
       "      <td>6.854788</td>\n",
       "      <td>0.278241</td>\n",
       "      <td>0.334192</td>\n",
       "      <td>6.391415</td>\n",
       "      <td>0.045772</td>\n",
       "      <td>35.308085</td>\n",
       "      <td>138.360657</td>\n",
       "      <td>0.994027</td>\n",
       "      <td>3.188267</td>\n",
       "      <td>0.489847</td>\n",
       "      <td>10.514267</td>\n",
       "    </tr>\n",
       "    <tr>\n",
       "      <th>std</th>\n",
       "      <td>0.843868</td>\n",
       "      <td>0.100795</td>\n",
       "      <td>0.121020</td>\n",
       "      <td>5.072058</td>\n",
       "      <td>0.021848</td>\n",
       "      <td>17.007137</td>\n",
       "      <td>42.498065</td>\n",
       "      <td>0.002991</td>\n",
       "      <td>0.151001</td>\n",
       "      <td>0.114126</td>\n",
       "      <td>1.230621</td>\n",
       "    </tr>\n",
       "    <tr>\n",
       "      <th>min</th>\n",
       "      <td>3.800000</td>\n",
       "      <td>0.080000</td>\n",
       "      <td>0.000000</td>\n",
       "      <td>0.600000</td>\n",
       "      <td>0.009000</td>\n",
       "      <td>2.000000</td>\n",
       "      <td>9.000000</td>\n",
       "      <td>0.987110</td>\n",
       "      <td>2.720000</td>\n",
       "      <td>0.220000</td>\n",
       "      <td>8.000000</td>\n",
       "    </tr>\n",
       "    <tr>\n",
       "      <th>25%</th>\n",
       "      <td>6.300000</td>\n",
       "      <td>0.210000</td>\n",
       "      <td>0.270000</td>\n",
       "      <td>1.700000</td>\n",
       "      <td>0.036000</td>\n",
       "      <td>23.000000</td>\n",
       "      <td>108.000000</td>\n",
       "      <td>0.991723</td>\n",
       "      <td>3.090000</td>\n",
       "      <td>0.410000</td>\n",
       "      <td>9.500000</td>\n",
       "    </tr>\n",
       "    <tr>\n",
       "      <th>50%</th>\n",
       "      <td>6.800000</td>\n",
       "      <td>0.260000</td>\n",
       "      <td>0.320000</td>\n",
       "      <td>5.200000</td>\n",
       "      <td>0.043000</td>\n",
       "      <td>34.000000</td>\n",
       "      <td>134.000000</td>\n",
       "      <td>0.993740</td>\n",
       "      <td>3.180000</td>\n",
       "      <td>0.470000</td>\n",
       "      <td>10.400000</td>\n",
       "    </tr>\n",
       "    <tr>\n",
       "      <th>75%</th>\n",
       "      <td>7.300000</td>\n",
       "      <td>0.320000</td>\n",
       "      <td>0.390000</td>\n",
       "      <td>9.900000</td>\n",
       "      <td>0.050000</td>\n",
       "      <td>46.000000</td>\n",
       "      <td>167.000000</td>\n",
       "      <td>0.996100</td>\n",
       "      <td>3.280000</td>\n",
       "      <td>0.550000</td>\n",
       "      <td>11.400000</td>\n",
       "    </tr>\n",
       "    <tr>\n",
       "      <th>max</th>\n",
       "      <td>14.200000</td>\n",
       "      <td>1.100000</td>\n",
       "      <td>1.660000</td>\n",
       "      <td>65.800000</td>\n",
       "      <td>0.346000</td>\n",
       "      <td>289.000000</td>\n",
       "      <td>440.000000</td>\n",
       "      <td>1.038980</td>\n",
       "      <td>3.820000</td>\n",
       "      <td>1.080000</td>\n",
       "      <td>14.200000</td>\n",
       "    </tr>\n",
       "  </tbody>\n",
       "</table>\n",
       "</div>"
      ],
      "text/plain": [
       "       fixed acidity  volatile acidity  citric acid  residual sugar  \\\n",
       "count    4898.000000       4898.000000  4898.000000     4898.000000   \n",
       "mean        6.854788          0.278241     0.334192        6.391415   \n",
       "std         0.843868          0.100795     0.121020        5.072058   \n",
       "min         3.800000          0.080000     0.000000        0.600000   \n",
       "25%         6.300000          0.210000     0.270000        1.700000   \n",
       "50%         6.800000          0.260000     0.320000        5.200000   \n",
       "75%         7.300000          0.320000     0.390000        9.900000   \n",
       "max        14.200000          1.100000     1.660000       65.800000   \n",
       "\n",
       "         chlorides  free sulfur dioxide  total sulfur dioxide      density  \\\n",
       "count  4898.000000          4898.000000           4898.000000  4898.000000   \n",
       "mean      0.045772            35.308085            138.360657     0.994027   \n",
       "std       0.021848            17.007137             42.498065     0.002991   \n",
       "min       0.009000             2.000000              9.000000     0.987110   \n",
       "25%       0.036000            23.000000            108.000000     0.991723   \n",
       "50%       0.043000            34.000000            134.000000     0.993740   \n",
       "75%       0.050000            46.000000            167.000000     0.996100   \n",
       "max       0.346000           289.000000            440.000000     1.038980   \n",
       "\n",
       "                pH    sulphates      alcohol  \n",
       "count  4898.000000  4898.000000  4898.000000  \n",
       "mean      3.188267     0.489847    10.514267  \n",
       "std       0.151001     0.114126     1.230621  \n",
       "min       2.720000     0.220000     8.000000  \n",
       "25%       3.090000     0.410000     9.500000  \n",
       "50%       3.180000     0.470000    10.400000  \n",
       "75%       3.280000     0.550000    11.400000  \n",
       "max       3.820000     1.080000    14.200000  "
      ]
     },
     "metadata": {},
     "output_type": "display_data"
    },
    {
     "data": {
      "image/png": "[encoded data removed]",
      "text/plain": [
       "<Figure size 1080x1080 with 12 Axes>"
      ]
     },
     "metadata": {
      "needs_background": "light"
     },
     "output_type": "display_data"
    },
    {
     "data": {
      "text/plain": [
       "count    4898.000000\n",
       "mean        5.877909\n",
       "std         0.885639\n",
       "min         3.000000\n",
       "25%         5.000000\n",
       "50%         6.000000\n",
       "75%         6.000000\n",
       "max         9.000000\n",
       "Name: quality, dtype: float64"
      ]
     },
     "metadata": {},
     "output_type": "display_data"
    },
    {
     "name": "stdout",
     "output_type": "stream",
     "text": [
      "Summary of y:\n"
     ]
    },
    {
     "data": {
      "text/plain": [
       "6    2198\n",
       "5    1457\n",
       "7     880\n",
       "8     175\n",
       "4     163\n",
       "3      20\n",
       "9       5\n",
       "Name: quality, dtype: int64"
      ]
     },
     "metadata": {},
     "output_type": "display_data"
    }
   ],
   "source": [
    "# EDA\n",
    "\n",
    "display(X.describe(include='all'))\n",
    "X.hist(figsize=(15, 15), bins=12)  # bins ~= sqrt(N)\n",
    "pl.show()\n",
    "\n",
    "display(y.describe(include='all'))\n",
    "\n",
    "# Spot checks for y:\n",
    "\n",
    "print('Summary of y:')\n",
    "display(y.value_counts())"
   ]
  },
  {
   "cell_type": "code",
   "execution_count": 4,
   "metadata": {},
   "outputs": [
    {
     "name": "stdout",
     "output_type": "stream",
     "text": [
      "Partitioning data into parts: formative (for development) and summative (for testing) ...\n",
      "done \n",
      "\n"
     ]
    }
   ],
   "source": [
    "# setting the seed allows for repeatability\n",
    "seed = 5 \n",
    "\n",
    "print('Partitioning data into parts: formative (for development) and summative (for testing) ...')\n",
    "test_size = 0.20   # means 20 percent\n",
    "X_train, X_test, y_train, y_test = model_selection.train_test_split(X, y, test_size=test_size, random_state=seed)\n",
    "\n",
    "print('done \\n')"
   ]
  },
  {
   "cell_type": "code",
   "execution_count": 5,
   "metadata": {},
   "outputs": [
    {
     "name": "stdout",
     "output_type": "stream",
     "text": [
      " ++++ Detailed classification report for the selected model ++++ \n",
      "Algorithm: Pipeline(steps=[('kneighborsclassifier', KNeighborsClassifier())]) \n",
      "This model was trained and tuned on the development set using CV.\n",
      "The following results are computed on the separate test set:\n"
     ]
    },
    {
     "data": {
      "image/png": "[encoded data removed]",
      "text/plain": [
       "<Figure size 432x288 with 1 Axes>"
      ]
     },
     "metadata": {
      "needs_background": "light"
     },
     "output_type": "display_data"
    },
    {
     "name": "stdout",
     "output_type": "stream",
     "text": [
      "\n",
      " clasification report:\n",
      "               precision    recall  f1-score   support\n",
      "\n",
      "           3       0.00      0.00      0.00         4\n",
      "           4       0.16      0.09      0.11        34\n",
      "           5       0.47      0.53      0.50       289\n",
      "           6       0.53      0.57      0.55       460\n",
      "           7       0.41      0.35      0.38       168\n",
      "           8       0.29      0.08      0.12        25\n",
      "\n",
      "    accuracy                           0.49       980\n",
      "   macro avg       0.31      0.27      0.28       980\n",
      "weighted avg       0.47      0.49      0.48       980\n",
      "\n",
      "Cohen Kappa Score: 0.20086721568754362\n",
      "\n",
      "\n",
      "done \n",
      "\n"
     ]
    },
    {
     "name": "stderr",
     "output_type": "stream",
     "text": [
      "C:\\Users\\nhoss\\anaconda3\\lib\\site-packages\\sklearn\\metrics\\_classification.py:1221: UndefinedMetricWarning: Precision and F-score are ill-defined and being set to 0.0 in labels with no predicted samples. Use `zero_division` parameter to control this behavior.\n",
      "  _warn_prf(average, modifier, msg_start, len(result))\n"
     ]
    }
   ],
   "source": [
    "# Make predictions on test dataset\n",
    "selected_model = make_pipeline( KNeighborsClassifier() ) \n",
    "selected_model.fit(X_train, y_train)\n",
    "predictions = selected_model.predict(X_test)\n",
    "print(\" ++++ Detailed classification report for the selected model ++++ \" )\n",
    "print(\"Algorithm: %s \" % selected_model)\n",
    "print(\"This model was trained and tuned on the development set using CV.\")\n",
    "print(\"The following results are computed on the separate test set:\")\n",
    "#\n",
    "predictions = selected_model.predict(X_test)\n",
    "cm = confusion_matrix(y_test, predictions)\n",
    "df_cm = pandas.DataFrame(cm, columns=numpy.unique(y_test), index = numpy.unique(y_test))\n",
    "sns.heatmap(df_cm, square=True, annot=True, fmt='d', cbar=False )\n",
    "pl.xlabel('predicted')\n",
    "pl.ylabel('true')\n",
    "pl.show()\n",
    "#\n",
    "print('\\n clasification report:\\n', classification_report(y_test, predictions))\n",
    "print('Cohen Kappa Score:', cohen_kappa_score(y_test, predictions))\n",
    "print('\\n')        \n",
    "print('done \\n')"
   ]
  },
  {
   "cell_type": "raw",
   "metadata": {},
   "source": [
    "Problem 02"
   ]
  },
  {
   "cell_type": "code",
   "execution_count": 6,
   "metadata": {},
   "outputs": [],
   "source": [
    "# We'll focus on accuracy as both formative and summative scoring method\n",
    "scoring = 'f1_macro'"
   ]
  },
  {
   "cell_type": "code",
   "execution_count": 7,
   "metadata": {},
   "outputs": [
    {
     "name": "stdout",
     "output_type": "stream",
     "text": [
      "Tuning model...\n",
      "Best hyperparameters found on development set for Decision Tree:\n",
      "{'criterion': 'entropy', 'max_depth': 7}\n",
      "Decision tree has maximum depth 7.\n",
      "f1_score is\n",
      "0.315328776050912\n"
     ]
    }
   ],
   "source": [
    "# Decision Tree\n",
    "print('Tuning model...')\n",
    "selected_model = DecisionTreeClassifier()\n",
    "hyperparameters = {'max_depth':[5, 6, 7], 'criterion':['gini', 'entropy'] }\n",
    "clf = GridSearchCV(selected_model, hyperparameters, cv=5, scoring=scoring)\n",
    "clf.fit(X_train, y_train)\n",
    "print(\"Best hyperparameters found on development set for Decision Tree:\")\n",
    "print(clf.best_params_)\n",
    "tuned_model_DT = clf.best_estimator_\n",
    "\n",
    "print(f'Decision tree has maximum depth {tuned_model_DT.tree_.max_depth}.')\n",
    "y_pred = tuned_model_DT.predict(X_test)\n",
    "print( 'f1_score is')\n",
    "print( f1_score(y_test, y_pred, average='macro') )"
   ]
  },
  {
   "cell_type": "code",
   "execution_count": 8,
   "metadata": {},
   "outputs": [
    {
     "name": "stdout",
     "output_type": "stream",
     "text": [
      "Tuning model...\n",
      "Best hyperparameters found on development set for Random Forest:\n",
      "{'criterion': 'entropy', 'max_depth': 5, 'n_estimators': 10}\n",
      "f1_score is\n",
      "0.26552144143677325\n"
     ]
    }
   ],
   "source": [
    "# Random Forest\n",
    "print('Tuning model...')\n",
    "selected_model = RandomForestClassifier()\n",
    "hyperparameters = {'max_depth':[3, 4, 5], 'criterion':['gini', 'entropy'], 'n_estimators':[10, 50, 100] }\n",
    "clf = GridSearchCV(selected_model, hyperparameters, cv=5, scoring=scoring)\n",
    "clf.fit(X_train, y_train)\n",
    "print(\"Best hyperparameters found on development set for Random Forest:\")\n",
    "print(clf.best_params_)\n",
    "tuned_model_RF = clf.best_estimator_\n",
    "\n",
    "y_pred = tuned_model_RF.predict(X_test)\n",
    "print( 'f1_score is')\n",
    "print( f1_score(y_test, y_pred, average='macro') )"
   ]
  },
  {
   "cell_type": "raw",
   "metadata": {},
   "source": [
    "Problem 03"
   ]
  },
  {
   "cell_type": "code",
   "execution_count": 9,
   "metadata": {},
   "outputs": [
    {
     "name": "stdout",
     "output_type": "stream",
     "text": [
      "Reading list of algorithms to train ...\n",
      "done \n",
      "\n"
     ]
    }
   ],
   "source": [
    "# Chose the Algorithms\n",
    "\n",
    "seed = 5 # setting the seed allows for repeatability\n",
    "\n",
    "print('Reading list of algorithms to train ...')\n",
    "models = []\n",
    "models.append(( 'linear_SVM_C=100', SVC(kernel='linear', C=100) ))\n",
    "models.append(( 'gaussian_SVM_C=100', SVC(kernel='rbf', gamma='scale', C=100)  ))\n",
    "models.append(( 'linear_SVM_C=10', SVC(kernel='linear', C=10) ))\n",
    "models.append(( 'gaussian_SVM_C=10', SVC(kernel='rbf', gamma='scale', C=10)  ))\n",
    "print('done \\n')"
   ]
  },
  {
   "cell_type": "code",
   "execution_count": 10,
   "metadata": {},
   "outputs": [
    {
     "name": "stdout",
     "output_type": "stream",
     "text": [
      " ++ NOW WORKING ON ALGORITHM linear_SVM_C=100 ++\n",
      "Splitting data into 2 folds\n",
      "Training model on each split ...\n",
      "algorithm linear_SVM_C=100 f1_macro results: mean = 0.218224 (std = 0.003572)\n",
      "KNeighborsClassifier mean=0.218 std=(+/-0.007) for hyperparameters={} \n",
      "f1_score is\n",
      "0.27161868194199446\n",
      " ++ NOW WORKING ON ALGORITHM gaussian_SVM_C=100 ++\n",
      "Splitting data into 2 folds\n",
      "Training model on each split ...\n",
      "algorithm gaussian_SVM_C=100 f1_macro results: mean = 0.150569 (std = 0.008679)\n",
      "KNeighborsClassifier mean=0.151 std=(+/-0.017) for hyperparameters={} \n",
      "f1_score is\n",
      "0.20071233007166156\n",
      " ++ NOW WORKING ON ALGORITHM linear_SVM_C=10 ++\n",
      "Splitting data into 2 folds\n",
      "Training model on each split ...\n",
      "algorithm linear_SVM_C=10 f1_macro results: mean = 0.164447 (std = 0.000205)\n",
      "KNeighborsClassifier mean=0.164 std=(+/-0.000) for hyperparameters={} \n",
      "f1_score is\n",
      "0.20223752151462995\n",
      " ++ NOW WORKING ON ALGORITHM gaussian_SVM_C=10 ++\n",
      "Splitting data into 2 folds\n",
      "Training model on each split ...\n",
      "algorithm gaussian_SVM_C=10 f1_macro results: mean = 0.118826 (std = 0.016932)\n",
      "KNeighborsClassifier mean=0.119 std=(+/-0.034) for hyperparameters={} \n",
      "f1_score is\n",
      "0.16149445405829074\n",
      "done \n",
      "\n"
     ]
    }
   ],
   "source": [
    "# Now it is time to train some models on the data and estimate their accuracy on unseen data.\n",
    "\n",
    "k4folds = 2\n",
    "results = []\n",
    "names = []\n",
    "for name, model in models:   # Select each model in turn\n",
    "    print(\" ++ NOW WORKING ON ALGORITHM %s ++\" % name)\n",
    "    print(\"Splitting data into %s folds\" % k4folds)\n",
    "    kfold = model_selection.KFold(n_splits=k4folds, random_state=seed, shuffle=True)\n",
    "    print(\"Training model on each split ...\")\n",
    "    cv_results = model_selection.cross_val_score(model, X_train, y_train, cv=kfold, scoring=scoring)\n",
    "    results.append(cv_results)\n",
    "    names.append(name)\n",
    "    msg = \"algorithm %s %s results: mean = %f (std = %f)\" % (name, scoring, cv_results.mean(), cv_results.std())\n",
    "    print(msg)\n",
    "    \n",
    "    selected_model = model\n",
    "    selected_model.fit(X_train, y_train)\n",
    "    y_pred = selected_model.predict(X_test)\n",
    "    hyperparameters = { }\n",
    "    clf = GridSearchCV(selected_model, hyperparameters, cv=5, scoring=scoring)\n",
    "    means = cv_results.mean()\n",
    "    stds = cv_results.std()\n",
    "    print( 'KNeighborsClassifier mean=%0.3f std=(+/-%0.03f) for hyperparameters=%r \\nf1_score is'% (means, stds * 2, hyperparameters))\n",
    "    print( f1_score(y_test, y_pred, average='macro') )\n",
    "print('done \\n')"
   ]
  },
  {
   "cell_type": "raw",
   "metadata": {},
   "source": [
    "Problem 04"
   ]
  },
  {
   "cell_type": "code",
   "execution_count": 13,
   "metadata": {},
   "outputs": [
    {
     "name": "stdout",
     "output_type": "stream",
     "text": [
      "Reading list of algorithms to train ...\n",
      "done \n",
      "\n"
     ]
    }
   ],
   "source": [
    "# Chose the Algorithms\n",
    "\n",
    "seed = 5 # setting the seed allows for repeatability\n",
    "\n",
    "print('Reading list of algorithms to train ...')\n",
    "models = []\n",
    "\n",
    "models.append(( 'scaled_SVM_linear_C=100', make_pipeline( MinMaxScaler(), SVC(kernel='linear', C=100, random_state=seed) )  ))\n",
    "models.append(( 'Featured_SVM_linear_C=100', make_pipeline( PCA(), SVC(kernel='linear', C=100, random_state=seed) )  ))\n",
    "models.append(( 'scaled_SVM_gaussian_C=100', make_pipeline( MinMaxScaler(), SVC(kernel='rbf', gamma='scale', C=100, random_state=seed) )  ))\n",
    "models.append(( 'Featured_SVM_gaussian_C=100', make_pipeline( PCA(), SVC(kernel='rbf', gamma='scale', C=100, random_state=seed) )  ))\n",
    "models.append(( 'scaled_SVM_linear_C=10', make_pipeline( MinMaxScaler(), SVC(kernel='linear', C=10, random_state=seed) )  ))\n",
    "models.append(( 'Featured_SVM_linear_C=10', make_pipeline( PCA(), SVC(kernel='linear', C=10, random_state=seed) )  ))\n",
    "models.append(( 'scaled_SVM_gaussian_C=10', make_pipeline( MinMaxScaler(), SVC(kernel='rbf', gamma='scale', C=10, random_state=seed) )  ))\n",
    "models.append(( 'Featured_SVM_gaussian_C=10', make_pipeline( PCA(), SVC(kernel='rbf', gamma='scale', C=10, random_state=seed) )  ))\n",
    "\n",
    "print('done \\n')"
   ]
  },
  {
   "cell_type": "code",
   "execution_count": 14,
   "metadata": {},
   "outputs": [
    {
     "name": "stdout",
     "output_type": "stream",
     "text": [
      " ++ NOW WORKING ON ALGORITHM scaled_SVM_linear_C=100 ++\n",
      "Splitting data into 2 folds\n",
      "Training model on each split ...\n",
      "algorithm scaled_SVM_linear_C=100 f1_macro results: mean = 0.165986 (std = 0.002054)\n",
      "f1_score\n",
      "0.20222126430760234\n",
      "\n",
      "\n",
      " ++ NOW WORKING ON ALGORITHM Featured_SVM_linear_C=100 ++\n",
      "Splitting data into 2 folds\n",
      "Training model on each split ...\n",
      "algorithm Featured_SVM_linear_C=100 f1_macro results: mean = 0.164206 (std = 0.002066)\n",
      "f1_score\n",
      "0.20283500694660753\n",
      "\n",
      "\n",
      " ++ NOW WORKING ON ALGORITHM scaled_SVM_gaussian_C=100 ++\n",
      "Splitting data into 2 folds\n",
      "Training model on each split ...\n",
      "algorithm scaled_SVM_gaussian_C=100 f1_macro results: mean = 0.303525 (std = 0.001727)\n",
      "f1_score\n",
      "0.3585581754697362\n",
      "\n",
      "\n",
      " ++ NOW WORKING ON ALGORITHM Featured_SVM_gaussian_C=100 ++\n",
      "Splitting data into 2 folds\n",
      "Training model on each split ...\n",
      "algorithm Featured_SVM_gaussian_C=100 f1_macro results: mean = 0.203827 (std = 0.008984)\n",
      "f1_score\n",
      "0.2480731269829554\n",
      "\n",
      "\n",
      " ++ NOW WORKING ON ALGORITHM scaled_SVM_linear_C=10 ++\n",
      "Splitting data into 2 folds\n",
      "Training model on each split ...\n",
      "algorithm scaled_SVM_linear_C=10 f1_macro results: mean = 0.165749 (std = 0.002092)\n",
      "f1_score\n",
      "0.20404640633842672\n",
      "\n",
      "\n",
      " ++ NOW WORKING ON ALGORITHM Featured_SVM_linear_C=10 ++\n",
      "Splitting data into 2 folds\n",
      "Training model on each split ...\n",
      "algorithm Featured_SVM_linear_C=10 f1_macro results: mean = 0.164299 (std = 0.002498)\n",
      "f1_score\n",
      "0.2030583840776664\n",
      "\n",
      "\n",
      " ++ NOW WORKING ON ALGORITHM scaled_SVM_gaussian_C=10 ++\n",
      "Splitting data into 2 folds\n",
      "Training model on each split ...\n",
      "algorithm scaled_SVM_gaussian_C=10 f1_macro results: mean = 0.281451 (std = 0.001310)\n",
      "f1_score\n",
      "0.2928095433765721\n",
      "\n",
      "\n",
      " ++ NOW WORKING ON ALGORITHM Featured_SVM_gaussian_C=10 ++\n",
      "Splitting data into 2 folds\n",
      "Training model on each split ...\n",
      "algorithm Featured_SVM_gaussian_C=10 f1_macro results: mean = 0.151459 (std = 0.003934)\n",
      "f1_score\n",
      "0.19698150661937497\n",
      "\n",
      "\n",
      "done \n",
      "\n"
     ]
    }
   ],
   "source": [
    "# Now it is time to train some models on the data and estimate their accuracy on unseen data.\n",
    "\n",
    "k4folds = 2\n",
    "results = []\n",
    "names = []\n",
    "for name, model in models:   # Select each model in turn\n",
    "    print(\" ++ NOW WORKING ON ALGORITHM %s ++\" % name)\n",
    "    print(\"Splitting data into %s folds\" % k4folds)\n",
    "    kfold = model_selection.KFold(n_splits=k4folds, random_state=seed, shuffle=True)\n",
    "    print(\"Training model on each split ...\")\n",
    "    cv_results = model_selection.cross_val_score(model, X_train, y_train, cv=kfold, scoring=scoring)\n",
    "    results.append(cv_results)\n",
    "    names.append(name)\n",
    "    msg = \"algorithm %s %s results: mean = %f (std = %f)\" % (name, scoring, cv_results.mean(), cv_results.std())\n",
    "    print(msg)\n",
    "    \n",
    "    selected_model = model\n",
    "    selected_model.fit(X_train, y_train)\n",
    "    y_pred = selected_model.predict(X_test)\n",
    "    hyperparameters = { }\n",
    "    clf = GridSearchCV(selected_model, hyperparameters, cv=5, scoring=scoring)\n",
    "#     means = cv_results.mean()\n",
    "#     stds = cv_results.std()\n",
    "#     print( 'mean=%0.3f std=(+/-%0.03f) for hyperparameters=%r \\nf1_score is'% (means, stds * 2, hyperparameters))\n",
    "    print('f1_score')\n",
    "    print( f1_score(y_test, y_pred, average='macro') )\n",
    "    print('\\n')\n",
    "print('done \\n')"
   ]
  },
  {
   "cell_type": "raw",
   "metadata": {},
   "source": [
    "Problem 05"
   ]
  },
  {
   "cell_type": "code",
   "execution_count": 15,
   "metadata": {},
   "outputs": [
    {
     "data": {
      "image/png": "[encoded data removed]",
      "text/plain": [
       "<Figure size 432x288 with 1 Axes>"
      ]
     },
     "metadata": {
      "needs_background": "light"
     },
     "output_type": "display_data"
    }
   ],
   "source": [
    "# Compare Algorithms\n",
    "fig = pl.figure()\n",
    "fig.suptitle('Algorithm Comparison based on %s' % scoring)\n",
    "ax = fig.add_subplot(111)\n",
    "pl.boxplot(results)\n",
    "ax.set_xticklabels(names)\n",
    "pl.show()"
   ]
  },
  {
   "cell_type": "raw",
   "metadata": {},
   "source": [
    "Results shows that SVM with MinMaxScalar(), and hyperparameters gaussian and C=100  provides comparatively best f1_score and minimum std deviation.\n",
    "Thus, it shows the best performance among all the model showed in HW 2"
   ]
  }
 ],
 "metadata": {
  "kernelspec": {
   "display_name": "Python 3",
   "language": "python",
   "name": "python3"
  },
  "language_info": {
   "codemirror_mode": {
    "name": "ipython",
    "version": 3
   },
   "file_extension": ".py",
   "mimetype": "text/x-python",
   "name": "python",
   "nbconvert_exporter": "python",
   "pygments_lexer": "ipython3",
   "version": "3.8.5"
  }
 },
 "nbformat": 4,
 "nbformat_minor": 4
}
