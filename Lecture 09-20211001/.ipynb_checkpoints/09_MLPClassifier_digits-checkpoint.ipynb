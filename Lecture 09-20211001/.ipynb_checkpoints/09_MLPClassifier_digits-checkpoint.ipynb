{
 "cells": [
  {
   "cell_type": "code",
   "execution_count": null,
   "metadata": {},
   "outputs": [],
   "source": [
    "import warnings\n",
    "\n",
    "import matplotlib.pyplot as plt\n",
    "\n",
    "from sklearn.neural_network import MLPClassifier\n",
    "from sklearn.metrics import classification_report"
   ]
  },
  {
   "cell_type": "code",
   "execution_count": null,
   "metadata": {},
   "outputs": [],
   "source": [
    "# Load data from https://www.openml.org/d/554\n",
    "print('Loading data...')  # Now let's load the data\n",
    "\n",
    "from sklearn.datasets import fetch_openml    # this is another great online source of data\n",
    "X, y = fetch_openml('mnist_784', version=1, return_X_y=True)   # we will load the digits dataset\n",
    "print('Done')"
   ]
  },
  {
   "cell_type": "code",
   "execution_count": null,
   "metadata": {},
   "outputs": [],
   "source": [
    "# The dataset should consist of 70000 rows and 784 columns. \n",
    "# Each column contains the pixel intensities of one 28 x 28 (784) image \n",
    "# Each image is of a handwritten digit: 0,1, ..., 9\n",
    "\n",
    "# Let's check the dataset size\n",
    "print('Shape of X:', X.shape, '\\n', 'Shape of y:', y.shape)\n",
    "\n",
    "# Let's see what one image looks like \n",
    "digit = X[42]  \n",
    "digit_pixels = digit.reshape(28, 28)  # from 784 vector to 28 x 28 image\n",
    "fig = plt.imshow(digit_pixels, cmap=plt.cm.binary)\n",
    "plt.axis('off')"
   ]
  },
  {
   "cell_type": "code",
   "execution_count": null,
   "metadata": {},
   "outputs": [],
   "source": [
    "# train on first 60K rows, test on all the rows after that\n",
    "X_train, X_test = X[:60000], X[60000:]  \n",
    "y_train, y_test = y[:60000], y[60000:]  \n",
    "print('Done')"
   ]
  },
  {
   "cell_type": "code",
   "execution_count": null,
   "metadata": {},
   "outputs": [],
   "source": [
    "# rescale the data\n",
    "X_train = X_train / 255.\n",
    "print('Done')"
   ]
  },
  {
   "cell_type": "code",
   "execution_count": null,
   "metadata": {},
   "outputs": [],
   "source": [
    "# Design the classifier neural network\n",
    "mlp = MLPClassifier(hidden_layer_sizes=(50,), # one hidden layer with 50 neurons\n",
    "                    activation = 'relu',  # ReLU is the default option\n",
    "                    # solver='sgd',  # default is Adam\n",
    "                    alpha=1e-4,  # regulariztion parameter, set to default=0.0001 (increase up to 1.0 for stronger regularization)\n",
    "                    learning_rate_init=.1 ,  # initial step-size for updating the weights, default is 0.001\n",
    "                    max_iter=10,  # number of epochs, default=200\n",
    "                    random_state=42,\n",
    "                    verbose=10, \n",
    "                    )\n",
    "\n",
    "# Train the classifier\n",
    "# NOTE: this example won't converge because our max_iter choice is too few epochs \n",
    "# (otherwise it will take too long for a live demo), \n",
    "# so we catch the warning and ignore it here\n",
    "from sklearn.exceptions import ConvergenceWarning\n",
    "with warnings.catch_warnings():\n",
    "    warnings.filterwarnings(\"ignore\", category=ConvergenceWarning, module=\"sklearn\")\n",
    "    mlp.fit(X_train, y_train)\n",
    "\n",
    "print(\"Training set score: %f\" % mlp.score(X_train, y_train))\n",
    "print('Done')"
   ]
  },
  {
   "cell_type": "code",
   "execution_count": null,
   "metadata": {},
   "outputs": [],
   "source": [
    "X_test = X_test / 255.    # rescale the test data using the same scaler as for the training set\n",
    "\n",
    "y_predicted = mlp.predict(X_test)   # use the trained classifier to predict on the test set\n",
    "\n",
    "print('\\n clasification report:\\n', classification_report(y_test, y_predicted))  # compare predictions with ground truth\n",
    "print('Done')"
   ]
  },
  {
   "cell_type": "code",
   "execution_count": null,
   "metadata": {},
   "outputs": [],
   "source": []
  }
 ],
 "metadata": {
  "kernelspec": {
   "display_name": "Python 3",
   "language": "python",
   "name": "python3"
  },
  "language_info": {
   "codemirror_mode": {
    "name": "ipython",
    "version": 3
   },
   "file_extension": ".py",
   "mimetype": "text/x-python",
   "name": "python",
   "nbconvert_exporter": "python",
   "pygments_lexer": "ipython3",
   "version": "3.8.5"
  }
 },
 "nbformat": 4,
 "nbformat_minor": 2
}
