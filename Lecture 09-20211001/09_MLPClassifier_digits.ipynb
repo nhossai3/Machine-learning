{
 "cells": [
  {
   "cell_type": "code",
   "execution_count": 1,
   "metadata": {},
   "outputs": [],
   "source": [
    "import warnings\n",
    "\n",
    "import matplotlib.pyplot as plt\n",
    "\n",
    "from sklearn.neural_network import MLPClassifier\n",
    "from sklearn.metrics import classification_report"
   ]
  },
  {
   "cell_type": "code",
   "execution_count": 2,
   "metadata": {},
   "outputs": [
    {
     "name": "stdout",
     "output_type": "stream",
     "text": [
      "Loading data...\n",
      "Done\n"
     ]
    }
   ],
   "source": [
    "# Load data from https://www.openml.org/d/554\n",
    "print('Loading data...')  # Now let's load the data\n",
    "\n",
    "from sklearn.datasets import fetch_openml    # this is another great online source of data\n",
    "X, y = fetch_openml('mnist_784', version=1, return_X_y=True)   # we will load the digits dataset\n",
    "print('Done')"
   ]
  },
  {
   "cell_type": "code",
   "execution_count": 3,
   "metadata": {},
   "outputs": [
    {
     "name": "stdout",
     "output_type": "stream",
     "text": [
      "Shape of X: (70000, 784) \n",
      " Shape of y: (70000,)\n"
     ]
    },
    {
     "data": {
      "text/plain": [
       "(-0.5, 27.5, 27.5, -0.5)"
      ]
     },
     "execution_count": 3,
     "metadata": {},
     "output_type": "execute_result"
    },
    {
     "data": {
      "image/png": "[encoded data removed]",
      "text/plain": [
       "<Figure size 432x288 with 1 Axes>"
      ]
     },
     "metadata": {
      "needs_background": "light"
     },
     "output_type": "display_data"
    }
   ],
   "source": [
    "# The dataset should consist of 70000 rows and 784 columns. \n",
    "# Each column contains the pixel intensities of one 28 x 28 (784) image \n",
    "# Each image is of a handwritten digit: 0,1, ..., 9\n",
    "\n",
    "# Let's check the dataset size\n",
    "print('Shape of X:', X.shape, '\\n', 'Shape of y:', y.shape)\n",
    "\n",
    "# Let's see what one image looks like \n",
    "digit = X[42]  \n",
    "digit_pixels = digit.reshape(28, 28)  # from 784 vector to 28 x 28 image\n",
    "fig = plt.imshow(digit_pixels, cmap=plt.cm.binary)\n",
    "plt.axis('off')"
   ]
  },
  {
   "cell_type": "code",
   "execution_count": 4,
   "metadata": {},
   "outputs": [
    {
     "name": "stdout",
     "output_type": "stream",
     "text": [
      "Done\n"
     ]
    }
   ],
   "source": [
    "# train on first 60K rows, test on all the rows after that\n",
    "X_train, X_test = X[:60000], X[60000:]  \n",
    "y_train, y_test = y[:60000], y[60000:]  \n",
    "print('Done')"
   ]
  },
  {
   "cell_type": "code",
   "execution_count": 5,
   "metadata": {},
   "outputs": [
    {
     "name": "stdout",
     "output_type": "stream",
     "text": [
      "Done\n"
     ]
    }
   ],
   "source": [
    "# rescale the data\n",
    "X_train = X_train / 255.\n",
    "print('Done')"
   ]
  },
  {
   "cell_type": "code",
   "execution_count": 6,
   "metadata": {},
   "outputs": [
    {
     "name": "stdout",
     "output_type": "stream",
     "text": [
      "Iteration 1, loss = 0.65271122\n",
      "Iteration 2, loss = 0.34928122\n",
      "Iteration 3, loss = 0.33539398\n",
      "Iteration 4, loss = 0.36946887\n",
      "Iteration 5, loss = 0.35407548\n",
      "Iteration 6, loss = 0.36753422\n",
      "Iteration 7, loss = 0.36237379\n",
      "Iteration 8, loss = 0.39253171\n",
      "Iteration 9, loss = 0.44990445\n",
      "Iteration 10, loss = 0.43864594\n",
      "Training set score: 0.894200\n",
      "Done\n"
     ]
    }
   ],
   "source": [
    "# Design the classifier neural network\n",
    "mlp = MLPClassifier(hidden_layer_sizes=(50,), # one hidden layer with 50 neurons\n",
    "                    activation = 'relu',  # ReLU is the default option\n",
    "                    # solver='sgd',  # default is Adam\n",
    "                    alpha=1e-4,  # regulariztion parameter, set to default=0.0001 (increase up to 1.0 for stronger regularization)\n",
    "                    learning_rate_init=.1 ,  # initial step-size for updating the weights, default is 0.001\n",
    "                    max_iter=10,  # number of epochs, default=200\n",
    "                    random_state=42,\n",
    "                    verbose=10, \n",
    "                    )\n",
    "\n",
    "# Train the classifier\n",
    "# NOTE: this example won't converge because our max_iter choice is too few epochs \n",
    "# (otherwise it will take too long for a live demo), \n",
    "# so we catch the warning and ignore it here\n",
    "from sklearn.exceptions import ConvergenceWarning\n",
    "with warnings.catch_warnings():\n",
    "    warnings.filterwarnings(\"ignore\", category=ConvergenceWarning, module=\"sklearn\")\n",
    "    mlp.fit(X_train, y_train)\n",
    "\n",
    "print(\"Training set score: %f\" % mlp.score(X_train, y_train))\n",
    "print('Done')"
   ]
  },
  {
   "cell_type": "code",
   "execution_count": 7,
   "metadata": {},
   "outputs": [
    {
     "name": "stdout",
     "output_type": "stream",
     "text": [
      "\n",
      " clasification report:\n",
      "               precision    recall  f1-score   support\n",
      "\n",
      "           0       0.99      0.75      0.86       980\n",
      "           1       0.99      0.97      0.98      1135\n",
      "           2       0.94      0.89      0.92      1032\n",
      "           3       0.96      0.83      0.89      1010\n",
      "           4       0.94      0.92      0.93       982\n",
      "           5       0.98      0.80      0.88       892\n",
      "           6       0.94      0.96      0.95       958\n",
      "           7       0.98      0.88      0.93      1028\n",
      "           8       0.57      0.97      0.72       974\n",
      "           9       0.87      0.91      0.89      1009\n",
      "\n",
      "    accuracy                           0.89     10000\n",
      "   macro avg       0.92      0.89      0.89     10000\n",
      "weighted avg       0.92      0.89      0.90     10000\n",
      "\n",
      "Done\n"
     ]
    }
   ],
   "source": [
    "X_test = X_test / 255.    # rescale the test data using the same scaler as for the training set\n",
    "\n",
    "y_predicted = mlp.predict(X_test)   # use the trained classifier to predict on the test set\n",
    "\n",
    "print('\\n clasification report:\\n', classification_report(y_test, y_predicted))  # compare predictions with ground truth\n",
    "print('Done')"
   ]
  },
  {
   "cell_type": "code",
   "execution_count": null,
   "metadata": {},
   "outputs": [],
   "source": []
  }
 ],
 "metadata": {
  "kernelspec": {
   "display_name": "Python 3",
   "language": "python",
   "name": "python3"
  },
  "language_info": {
   "codemirror_mode": {
    "name": "ipython",
    "version": 3
   },
   "file_extension": ".py",
   "mimetype": "text/x-python",
   "name": "python",
   "nbconvert_exporter": "python",
   "pygments_lexer": "ipython3",
   "version": "3.8.5"
  }
 },
 "nbformat": 4,
 "nbformat_minor": 2
}
